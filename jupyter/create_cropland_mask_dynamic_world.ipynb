{
 "cells": [
  {
   "cell_type": "markdown",
   "id": "dab0e59a-4bc3-4180-9be2-57a7bab49600",
   "metadata": {},
   "source": [
    "### 1a) Create merged LULC raster"
   ]
  },
  {
   "cell_type": "code",
   "execution_count": null,
   "id": "61cb1f89-7a89-48ee-b0a0-34b42d4456ac",
   "metadata": {},
   "outputs": [],
   "source": [
    "import os\n",
    "print(os.getcwd())\n",
    "print(os.listdir(r\"C:\\temp\\timor_leste\"))\n"
   ]
  },
  {
   "cell_type": "code",
   "execution_count": null,
   "id": "730e128d-89a7-49b2-8dda-50c860aa40c9",
   "metadata": {},
   "outputs": [],
   "source": [
    "import glob\n",
    "import numpy as np\n",
    "import rasterio\n",
    "from rasterio.merge import merge\n",
    "\n",
    "# Paths\n",
    "input_dir = r\"C:\\temp\\timor_leste\"\n",
    "output_merged_fp = r\"C:\\temp\\timor_leste\\merged_reclass.tif\"\n",
    "\n",
    "# 1. Find all TIFFs and open them\n",
    "tif_files = glob.glob(f\"{input_dir}/*.tif\")\n",
    "if not tif_files:\n",
    "    raise FileNotFoundError(f\"No TIFFs found in {input_dir}\")\n",
    "srcs = [rasterio.open(fp) for fp in tif_files]\n",
    "\n",
    "# 2. Mosaic (merge) all bands into one array\n",
    "mosaic_arr, mosaic_transform = merge(srcs)\n",
    "\n",
    "# 3. Prepare output metadata (take CRS, dtype, etc. from the first source)\n",
    "out_meta = srcs[0].meta.copy()\n",
    "out_meta.update({\n",
    "    \"driver\": \"GTiff\",\n",
    "    \"height\":  mosaic_arr.shape[1],\n",
    "    \"width\":   mosaic_arr.shape[2],\n",
    "    \"transform\": mosaic_transform,\n",
    "    \"count\":   1,\n",
    "    \"dtype\":   \"uint8\"\n",
    "})\n",
    "\n",
    "# 4. Reclassify: values 2,3,4 → 1; everything else → 0\n",
    "#    (mosaic_arr is shape [1, height, width])\n",
    "reclass = np.where(np.isin(mosaic_arr[0], [2, 3, 4]), 1, 0).astype(\"uint8\")\n",
    "\n",
    "# 5. Write the single, reclassified tile\n",
    "with rasterio.open(output_merged_fp, \"w\", **out_meta) as dst:\n",
    "    dst.write(reclass, 1)\n",
    "\n",
    "# 6. Clean up\n",
    "for src in srcs:\n",
    "    src.close()\n",
    "\n",
    "print(\"✅ Merged & reclassified raster saved to:\", output_merged_fp)\n"
   ]
  },
  {
   "cell_type": "markdown",
   "id": "40ab809a-e5cf-4fed-8abf-a7cea6abb014",
   "metadata": {},
   "source": [
    "### 1b Create merged LULC raster and vector"
   ]
  },
  {
   "cell_type": "code",
   "execution_count": null,
   "id": "9d9fbed6-ccdd-4e54-905f-44386f1ac6e1",
   "metadata": {},
   "outputs": [],
   "source": [
    "import rasterio\n",
    "from rasterio.features import shapes\n",
    "import geopandas as gpd\n",
    "\n",
    "# Paths\n",
    "merged_raster_fp = r\"C:\\temp\\timor_leste\\merged_reclass.tif\"\n",
    "vector_fp        = r\"C:\\temp\\timor_leste\\areas_value1.shp\"\n",
    "\n",
    "# 1. Open the merged & reclassified raster\n",
    "with rasterio.open(merged_raster_fp) as src:\n",
    "    arr       = src.read(1)\n",
    "    transform = src.transform\n",
    "    crs       = src.crs\n",
    "\n",
    "# 2. Create a boolean mask where value == 1\n",
    "mask = arr == 1\n",
    "\n",
    "# 3. Generate polygon shapes for all contiguous areas of 1\n",
    "shape_gen = shapes(arr, mask=mask, transform=transform)\n",
    "\n",
    "# 4. Build a GeoDataFrame from those shapes\n",
    "features = [\n",
    "    {\"properties\": {\"value\": int(v)}, \"geometry\": geom}\n",
    "    for geom, v in shape_gen\n",
    "]\n",
    "gdf = gpd.GeoDataFrame.from_features(features, crs=crs)\n",
    "\n",
    "# 5. Save to a shapefile\n",
    "gdf.to_file(vector_fp)\n",
    "\n",
    "print(\"✅ Vector shapefile saved to:\", vector_fp)\n"
   ]
  },
  {
   "cell_type": "markdown",
   "id": "fb243b7f-7582-4604-879b-c4f8667ebb4b",
   "metadata": {},
   "source": [
    "### 2) Create LULC CSV"
   ]
  },
  {
   "cell_type": "code",
   "execution_count": null,
   "id": "22e07764-8b48-47b8-9f36-5de88b97e09e",
   "metadata": {},
   "outputs": [],
   "source": [
    "import glob\n",
    "import pandas as pd\n",
    "\n",
    "# 1. Define directories\n",
    "csv_dir = r\"C:\\temp\\timor_leste\\csv\"\n",
    "output_fp = r\"C:\\temp\\timor_leste\\merged.csv\"\n",
    "\n",
    "# 2. Find all CSV files\n",
    "csv_files = glob.glob(f\"{csv_dir}/*.csv\")\n",
    "if not csv_files:\n",
    "    raise FileNotFoundError(f\"No CSV files found in {csv_dir}\")\n",
    "\n",
    "# 3. Read the first file (to capture headers) with only the needed columns\n",
    "df = pd.read_csv(csv_files[0], usecols=['ADM2_PCODE', 'area_ha', 'class'])\n",
    "\n",
    "# 4. Read and append the rest (drops their headers automatically)\n",
    "for f in csv_files[1:]:\n",
    "    temp = pd.read_csv(f, usecols=['ADM2_PCODE', 'area_ha', 'class'])\n",
    "    df = pd.concat([df, temp], ignore_index=True)\n",
    "\n",
    "# 5. Write out a single merged CSV (header only once)\n",
    "df.to_csv(output_fp, index=False)\n",
    "\n",
    "print(\"✅ Merged CSV saved to:\", output_fp)\n"
   ]
  }
 ],
 "metadata": {
  "kernelspec": {
   "display_name": "Python 3 (ipykernel)",
   "language": "python",
   "name": "python3"
  },
  "language_info": {
   "codemirror_mode": {
    "name": "ipython",
    "version": 3
   },
   "file_extension": ".py",
   "mimetype": "text/x-python",
   "name": "python",
   "nbconvert_exporter": "python",
   "pygments_lexer": "ipython3",
   "version": "3.12.3"
  }
 },
 "nbformat": 4,
 "nbformat_minor": 5
}
