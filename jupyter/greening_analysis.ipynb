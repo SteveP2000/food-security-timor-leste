{
 "cells": [
  {
   "cell_type": "markdown",
   "id": "8e3d0bc5-8187-4b45-b888-30200c268d89",
   "metadata": {},
   "source": [
    "## 1) Create 2 band greening geotiffs"
   ]
  },
  {
   "cell_type": "markdown",
   "id": "c6e06197-1dad-46cf-8ebc-990b87848383",
   "metadata": {},
   "source": [
    "### 1) Setup"
   ]
  },
  {
   "cell_type": "code",
   "execution_count": null,
   "id": "e37c0608-c7de-4452-ba20-ae44701f436d",
   "metadata": {},
   "outputs": [],
   "source": [
    "# Cell 1: Setup\n",
    "\n",
    "from pathlib import Path\n",
    "import numpy as np\n",
    "import rasterio\n",
    "from tqdm.auto import tqdm\n",
    "import pandas as pd\n"
   ]
  },
  {
   "cell_type": "markdown",
   "id": "81d1de1c-daea-4e23-990c-289f3b27e2d5",
   "metadata": {},
   "source": [
    "### 2) Configure paths"
   ]
  },
  {
   "cell_type": "code",
   "execution_count": null,
   "id": "8c438ef1-72a2-4242-9345-c4b64541c86d",
   "metadata": {},
   "outputs": [],
   "source": [
    "# Cell 2: Configure paths\n",
    "\n",
    "BASE_29 = Path(r\"C:\\temp\\timor_leste\\greening\\v3_dynamic_world_harmonised\")\n",
    "BASE_15 = BASE_29 / \"15_bands\"\n",
    "\n",
    "EXPORTS = BASE_29 / \"exports\"\n",
    "EXPORTS.mkdir(parents=True, exist_ok=True)\n",
    "\n",
    "print(\"29-band input :\", BASE_29)\n",
    "print(\"15-band input :\", BASE_15)\n",
    "print(\"Unified export:\", EXPORTS)\n"
   ]
  },
  {
   "cell_type": "markdown",
   "id": "41b2f160-9e1a-48f4-b210-b9307e743ec0",
   "metadata": {},
   "source": [
    "### 3) Helper: max-with-nodata"
   ]
  },
  {
   "cell_type": "code",
   "execution_count": null,
   "id": "e13b05df-a3c9-44f2-a0a9-8bbd1e9d49fa",
   "metadata": {},
   "outputs": [],
   "source": [
    "# Cell 3: Helper to handle nodata in max calc\n",
    "def compute_max_ignoring_nodata(bands_stack: np.ndarray, nodata):\n",
    "    if nodata is None:\n",
    "        return np.maximum.reduce(bands_stack, axis=0)\n",
    "    masked = np.ma.masked_equal(bands_stack, nodata)\n",
    "    return np.ma.max(masked, axis=0).filled(nodata)\n",
    "\n",
    "\n",
    "def collect_files(folder: Path, patterns=(\"*.tif\",\"*.tiff\"), recursive=False):\n",
    "    files = []\n",
    "    globber = folder.rglob if recursive else folder.glob\n",
    "    for pat in patterns:\n",
    "        files.extend(globber(pat))\n",
    "    return sorted(files)\n"
   ]
  },
  {
   "cell_type": "markdown",
   "id": "2567f800-b36f-4b6f-8c31-6798f72b9c8f",
   "metadata": {},
   "source": [
    "### 4) Core processor (parameterized)"
   ]
  },
  {
   "cell_type": "code",
   "execution_count": null,
   "id": "7625ba06-66b0-4c6f-9153-f308a51d1899",
   "metadata": {},
   "outputs": [],
   "source": [
    "# Cell 4: Core processor (parameterized)\n",
    "def process_file_param(in_path: Path,\n",
    "                       out_dir: Path,\n",
    "                       max_band_indices: list,\n",
    "                       band2_index: int,\n",
    "                       overwrite=False,\n",
    "                       compress=\"lzw\"):\n",
    "    out_path = out_dir / f\"{in_path.stem}_2bands.tif\"\n",
    "    if out_path.exists() and not overwrite:\n",
    "        return \"exists\", out_path\n",
    "\n",
    "    with rasterio.open(in_path) as src:\n",
    "        required_max = max(max_band_indices + [band2_index])\n",
    "        if src.count < required_max:\n",
    "            return f\"skip_requires_{required_max}_bands\", f\"has_{src.count}\"\n",
    "\n",
    "        profile = src.profile.copy()\n",
    "        profile.update(count=2, compress=compress, tiled=True, bigtiff=\"IF_SAFER\")\n",
    "        nodata = src.nodata\n",
    "\n",
    "        with rasterio.open(out_path, \"w\", **profile) as dst:\n",
    "            for _, window in src.block_windows(1):\n",
    "                stack = np.stack([src.read(b, window=window) for b in max_band_indices], axis=0)\n",
    "                max_vals = compute_max_ignoring_nodata(stack, nodata)\n",
    "                b2 = src.read(band2_index, window=window)\n",
    "\n",
    "                dst.write(max_vals, 1, window=window)\n",
    "                dst.write(b2, 2, window=window)\n",
    "\n",
    "            if nodata is not None:\n",
    "                dst.nodata = nodata\n",
    "                dst.update_tags(1, nodata=nodata)\n",
    "                dst.update_tags(2, nodata=nodata)\n",
    "\n",
    "    return \"written\", out_path\n"
   ]
  },
  {
   "cell_type": "markdown",
   "id": "2efbb24c-59a2-4c7d-8c8e-9767e75c959e",
   "metadata": {},
   "source": [
    "### 5) Batch runner"
   ]
  },
  {
   "cell_type": "code",
   "execution_count": null,
   "id": "60a697c2-0df8-4e6d-9bd9-6cf7d5ffecee",
   "metadata": {},
   "outputs": [],
   "source": [
    "# Cell 5: Batch runner\n",
    "def run_batch(input_dir: Path, output_dir: Path, max_band_indices, band2_index, recursive=False):\n",
    "    files = collect_files(input_dir, recursive=recursive)\n",
    "    results = []\n",
    "    for f in tqdm(files, desc=f\"Processing {input_dir.name}\", unit=\"file\"):\n",
    "        try:\n",
    "            status, detail = process_file_param(\n",
    "                f, output_dir,\n",
    "                max_band_indices=max_band_indices,\n",
    "                band2_index=band2_index,\n",
    "                overwrite=False\n",
    "            )\n",
    "            results.append((f.name, status, str(detail)))\n",
    "        except Exception as e:\n",
    "            results.append((f.name, \"error\", str(e)))\n",
    "    return results\n"
   ]
  },
  {
   "cell_type": "markdown",
   "id": "c117533c-c3e8-49b4-ac0d-7c57b6defb8c",
   "metadata": {},
   "source": [
    "### 6) Execute for the 29-band set"
   ]
  },
  {
   "cell_type": "code",
   "execution_count": null,
   "id": "afc326a2-0430-479d-9367-90561dff97e2",
   "metadata": {},
   "outputs": [],
   "source": [
    "# Cell 6: Run for 29-band geotiffs (Band 1 = max(19-22), Band 2 = 29)\n",
    "results_29 = run_batch(\n",
    "    BASE_29, EXPORTS,\n",
    "    max_band_indices=[19,20,21,22],\n",
    "    band2_index=29\n",
    ")\n",
    "df_29 = pd.DataFrame(results_29, columns=[\"input_file\",\"status\",\"output\"])\n",
    "df_29\n"
   ]
  },
  {
   "cell_type": "markdown",
   "id": "f3cd2339-b375-4aa7-9b68-888f7e2424f3",
   "metadata": {},
   "source": [
    "### 7) Execute for the 15-band set"
   ]
  },
  {
   "cell_type": "code",
   "execution_count": null,
   "id": "7ab6c148-0c80-46ad-87c7-2504be289a91",
   "metadata": {},
   "outputs": [],
   "source": [
    "# Cell 7: Run for 15-band geotiffs (Band 1 = max(5-8), Band 2 = 15)\n",
    "results_15 = run_batch(\n",
    "    BASE_15, EXPORTS,\n",
    "    max_band_indices=[5,6,7,8],\n",
    "    band2_index=15\n",
    ")\n",
    "df_15 = pd.DataFrame(results_15, columns=[\"input_file\",\"status\",\"output\"])\n",
    "df_15\n"
   ]
  },
  {
   "cell_type": "markdown",
   "id": "ae379a91-e5fc-443d-9b2b-283c73967c27",
   "metadata": {},
   "source": [
    "### 8) Combined summary"
   ]
  },
  {
   "cell_type": "code",
   "execution_count": null,
   "id": "563e4b6d-47ee-432e-b8ea-dd24cd4e1cea",
   "metadata": {},
   "outputs": [],
   "source": [
    "# Cell 8: Combined summary\n",
    "summary = (\n",
    "    pd.concat([df_29.assign(dataset=\"29-band\"),\n",
    "               df_15.assign(dataset=\"15-band\")],\n",
    "              ignore_index=True)\n",
    "    .pivot_table(index=\"status\", columns=\"dataset\", values=\"input_file\",\n",
    "                 aggfunc=\"count\", fill_value=0)\n",
    "    .reset_index()\n",
    ")\n",
    "summary\n"
   ]
  },
  {
   "cell_type": "markdown",
   "id": "d74a3e01-121a-439b-a579-bae680c50fc8",
   "metadata": {},
   "source": [
    "## 2) Create mosaic"
   ]
  },
  {
   "cell_type": "code",
   "execution_count": null,
   "id": "af5ea5cf-036f-438d-91a9-d1decd20d21d",
   "metadata": {},
   "outputs": [],
   "source": [
    "# Cell 1: Setup\n",
    "\n",
    "from pathlib import Path\n",
    "import numpy as np\n",
    "import rasterio\n",
    "from rasterio.merge import merge\n",
    "from rasterio.vrt import WarpedVRT\n",
    "from rasterio.enums import Resampling\n",
    "from tqdm.auto import tqdm\n"
   ]
  },
  {
   "cell_type": "code",
   "execution_count": null,
   "id": "6f94b900-3aab-4e5a-86bd-4c7ed149e06b",
   "metadata": {},
   "outputs": [],
   "source": [
    "# Cell 2: Paths & output filename\n",
    "\n",
    "EXPORTS = Path(r\"C:\\temp\\timor_leste\\greening\\v3_dynamic_world_harmonised\\exports\")\n",
    "EXPORTS.mkdir(parents=True, exist_ok=True)\n",
    "\n",
    "OUT_MOSAIC = EXPORTS / \"mosaic_timor_leste_2bands.tif\"\n",
    "\n",
    "print(\"Exports folder:\", EXPORTS)\n",
    "print(\"Mosaic output :\", OUT_MOSAIC)\n"
   ]
  },
  {
   "cell_type": "code",
   "execution_count": null,
   "id": "580454f3-d003-446e-b84b-cc6ffd7707c9",
   "metadata": {},
   "outputs": [],
   "source": [
    "# Cell 3: Collect candidate GeoTIFFs (2-band exports)\n",
    "def collect_tifs(folder: Path, patterns=(\"*.tif\", \"*.tiff\")):\n",
    "    files = []\n",
    "    for pat in patterns:\n",
    "        files.extend(folder.glob(pat))\n",
    "    # Filter to keep only the 2-band products we created (optional but safer)\n",
    "    two_band_files = []\n",
    "    for f in files:\n",
    "        try:\n",
    "            with rasterio.open(f) as src:\n",
    "                if src.count == 2:\n",
    "                    two_band_files.append(f)\n",
    "        except Exception:\n",
    "            pass\n",
    "    return sorted(two_band_files)\n",
    "\n",
    "files = collect_tifs(EXPORTS)\n",
    "print(f\"Found {len(files)} 2-band GeoTIFF(s).\")\n",
    "for f in files[:10]:\n",
    "    print(\"  -\", f.name)\n",
    "\n",
    "if len(files) == 0:\n",
    "    raise SystemExit(\"No 2-band GeoTIFFs found in the exports folder.\")\n"
   ]
  },
  {
   "cell_type": "code",
   "execution_count": null,
   "id": "e4c7390f-5dca-47ec-ae88-647d17ec20d3",
   "metadata": {},
   "outputs": [],
   "source": [
    "# Cell 4: Choose a target grid (CRS, resolution) using the first file\n",
    "\n",
    "first_path = files[0]\n",
    "with rasterio.open(first_path) as ref:\n",
    "    dst_crs = ref.crs\n",
    "    # Pixel sizes (x, y), y is typically negative; we keep absolute values\n",
    "    xres = abs(ref.transform.a)\n",
    "    yres = abs(ref.transform.e)\n",
    "    dst_res = (xres, yres)\n",
    "    dst_dtype = ref.dtypes[0]\n",
    "    dst_nodata = ref.nodata  # can be None\n",
    "\n",
    "print(\"Target CRS:\", dst_crs)\n",
    "print(\"Target res:\", dst_res)\n",
    "print(\"Target dtype:\", dst_dtype)\n",
    "print(\"Target nodata:\", dst_nodata)\n"
   ]
  },
  {
   "cell_type": "code",
   "execution_count": null,
   "id": "4cb798b1-2af3-4942-9034-3a3ca56534a4",
   "metadata": {},
   "outputs": [],
   "source": [
    "# Cell 5: Build VRTs and merge (keeping NaNs)\n",
    "\n",
    "vrt_list = []\n",
    "for path in tqdm(files, desc=\"Preparing VRTs\"):\n",
    "    src = rasterio.open(path)\n",
    "    vrt = WarpedVRT(\n",
    "        src,\n",
    "        crs=dst_crs,\n",
    "        resampling=Resampling.nearest,\n",
    "        dst_resolution=dst_res,\n",
    "        src_nodata=src.nodata,\n",
    "        nodata=np.nan  # request NaN as nodata\n",
    "    )\n",
    "    vrt_list.append((src, vrt))\n",
    "\n",
    "mosaic_arr, mosaic_transform = merge(\n",
    "    [vrt for _, vrt in vrt_list],\n",
    "    nodata=np.nan,\n",
    "    dtype=\"float32\"   # force float so NaNs are preserved\n",
    ")\n",
    "\n",
    "print(\"Mosaic shape (bands, rows, cols):\", mosaic_arr.shape)\n",
    "print(\"Array dtype:\", mosaic_arr.dtype)\n",
    "\n",
    "for src, vrt in vrt_list:\n",
    "    vrt.close()\n",
    "    src.close()\n"
   ]
  },
  {
   "cell_type": "code",
   "execution_count": null,
   "id": "46a3b12d-d460-41c8-b698-91e24684fbfb",
   "metadata": {},
   "outputs": [],
   "source": [
    "# Cell 6: Write mosaic with NaNs preserved\n",
    "\n",
    "profile = {\n",
    "    \"driver\": \"GTiff\",\n",
    "    \"dtype\": \"float32\",       # ensures NaNs are valid\n",
    "    \"count\": mosaic_arr.shape[0],\n",
    "    \"width\": mosaic_arr.shape[2],\n",
    "    \"height\": mosaic_arr.shape[1],\n",
    "    \"crs\": dst_crs,\n",
    "    \"transform\": mosaic_transform,\n",
    "    \"tiled\": True,\n",
    "    \"compress\": \"lzw\",\n",
    "    \"bigtiff\": \"IF_SAFER\"\n",
    "}\n",
    "\n",
    "with rasterio.open(OUT_MOSAIC, \"w\", **profile) as dst:\n",
    "    dst.write(mosaic_arr)\n",
    "\n",
    "print(\"✅ Wrote mosaic with NaNs preserved:\", OUT_MOSAIC)\n"
   ]
  },
  {
   "cell_type": "code",
   "execution_count": null,
   "id": "296082bf-7bb8-41e5-ae4a-72202028b795",
   "metadata": {},
   "outputs": [],
   "source": [
    "# Cell: Band-2 summary metrics in hectares (0=no greening, 1=greening)\n",
    "\n",
    "from pathlib import Path\n",
    "import numpy as np\n",
    "import pandas as pd\n",
    "import rasterio\n",
    "\n",
    "PIXEL_SIZE_M = 20  # meters\n",
    "AREA_PER_PIXEL_HA = (PIXEL_SIZE_M * PIXEL_SIZE_M) / 10_000.0  # 400 m2 = 0.04 ha\n",
    "\n",
    "out_csv = Path(OUT_MOSAIC).with_name(\"mosaic_band2_summary.csv\")\n",
    "\n",
    "counts = {0: 0, 1: 0}\n",
    "total_valid = 0\n",
    "\n",
    "with rasterio.open(OUT_MOSAIC) as src:\n",
    "    if src.count < 2:\n",
    "        raise ValueError(\"Expected a 2-band mosaic (Band 2 = greening class).\")\n",
    "\n",
    "    # Iterate window-by-window to stay memory-safe\n",
    "    for _, window in src.block_windows(1):\n",
    "        b2 = src.read(2, window=window)  # float mosaic with possible NaNs\n",
    "        valid = np.isfinite(b2)          # treat only finite values; NaN is nodata\n",
    "\n",
    "        if not np.any(valid):\n",
    "            continue\n",
    "\n",
    "        b2v = b2[valid]\n",
    "        # Values should be 0 or 1; we’ll count exact matches\n",
    "        counts[0] += np.count_nonzero(b2v == 0)\n",
    "        counts[1] += np.count_nonzero(b2v == 1)\n",
    "        total_valid += b2v.size\n",
    "\n",
    "# Build summary table\n",
    "rows = []\n",
    "for cls, label in [(0, \"No greening\"), (1, \"Greening\")]:\n",
    "    px = counts[cls]\n",
    "    ha = px * AREA_PER_PIXEL_HA\n",
    "    pct = (px / total_valid * 100.0) if total_valid > 0 else 0.0\n",
    "    rows.append({\"Class\": label, \"Pixels\": px, \"Area_ha\": ha, \"Percent_of_valid_%\": pct})\n",
    "\n",
    "df = pd.DataFrame(rows).sort_values(\"Class\").reset_index(drop=True)\n",
    "\n",
    "# Totals row\n",
    "total_area = sum(r[\"Area_ha\"] for r in rows)\n",
    "df_total = pd.DataFrame([{\n",
    "    \"Class\": \"Total (valid)\",\n",
    "    \"Pixels\": total_valid,\n",
    "    \"Area_ha\": total_area,\n",
    "    \"Percent_of_valid_%\": 100.0 if total_valid > 0 else 0.0\n",
    "}])\n",
    "\n",
    "display(df)\n",
    "display(df_total)\n",
    "\n",
    "# Save CSV\n",
    "df_out = pd.concat([df, df_total], ignore_index=True)\n",
    "df_out.to_csv(out_csv, index=False)\n",
    "print(f\"Saved summary to: {out_csv}\")\n"
   ]
  }
 ],
 "metadata": {
  "kernelspec": {
   "display_name": "Python (base)",
   "language": "python",
   "name": "base"
  },
  "language_info": {
   "codemirror_mode": {
    "name": "ipython",
    "version": 3
   },
   "file_extension": ".py",
   "mimetype": "text/x-python",
   "name": "python",
   "nbconvert_exporter": "python",
   "pygments_lexer": "ipython3",
   "version": "3.12.3"
  }
 },
 "nbformat": 4,
 "nbformat_minor": 5
}
