{
 "cells": [
  {
   "cell_type": "code",
   "execution_count": 3,
   "id": "36243fe0-dbd3-4bef-b1ec-4ce04760558d",
   "metadata": {},
   "outputs": [
    {
     "name": "stdout",
     "output_type": "stream",
     "text": [
      "Done. Wrote 8688 polygons to:\n",
      "C:\\temp\\timor_leste\\cropland_mask.shp\n"
     ]
    }
   ],
   "source": [
    "# 1) Setup\n",
    "import numpy as np\n",
    "import geopandas as gpd\n",
    "from shapely.geometry import shape\n",
    "import rasterio\n",
    "from rasterio import features\n",
    "\n",
    "# --- paths (edit if you like) ---\n",
    "raster_path = r\"C:\\temp\\timor_leste\\impact_observatory\\east-timor_20240101-20241231_data.tif\"\n",
    "out_shp     = r\"C:\\temp\\timor_leste\\cropland_mask.shp\"   # output shapefile\n",
    "# Optional: a GeoPackage alternative (handles big layers better)\n",
    "# out_gpkg = r\"C:\\temp\\timor_leste\\cropland_mask.gpkg\"\n",
    "\n",
    "# 2) Read raster and create a binary cropland mask (values 4 or 5)\n",
    "with rasterio.open(raster_path) as src:\n",
    "    arr = src.read(1, masked=True)  # masked array respects nodata\n",
    "    # True where pixel is 4 or 5, and not nodata\n",
    "    cropland_mask = np.isin(arr, [4, 5]) & (~arr.mask)\n",
    "    transform = src.transform\n",
    "    crs = src.crs\n",
    "\n",
    "# 3) Polygonize (only where mask is True)\n",
    "# We polygonize a 0/1 array; pass the mask so only True areas are considered.\n",
    "# features.shapes yields (geometry, value) pairs; we keep value==1\n",
    "shapes_iter = features.shapes(\n",
    "    cropland_mask.astype(np.uint8),\n",
    "    mask=cropland_mask,\n",
    "    transform=transform\n",
    ")\n",
    "\n",
    "geoms = []\n",
    "for geom, val in shapes_iter:\n",
    "    if val == 1:\n",
    "        geoms.append(shape(geom))\n",
    "\n",
    "# Safety check: if nothing found, stop early\n",
    "if not geoms:\n",
    "    raise ValueError(\"No polygons found where raster value == 4 or 5.\")\n",
    "\n",
    "# 4) Build GeoDataFrame (no class value kept; only an 'id' field)\n",
    "gdf = gpd.GeoDataFrame(\n",
    "    {\"id\": np.arange(len(geoms), dtype=\"int64\")},\n",
    "    geometry=geoms,\n",
    "    crs=crs\n",
    ")\n",
    "\n",
    "# (Optional) remove tiny sliver polygons below N pixels worth of area.\n",
    "# To use this, set your pixel size in map units from the transform.\n",
    "# pixel_area = abs(transform.a * transform.e)  # typically positive area\n",
    "# min_pixels = 4\n",
    "# min_area = min_pixels * pixel_area\n",
    "# gdf = gdf[gdf.area >= min_area]\n",
    "\n",
    "# (Optional) fix invalid geometries (occasionally helps with complex rasters)\n",
    "# gdf[\"geometry\"] = gdf.buffer(0)\n",
    "\n",
    "# 5) Save to Shapefile\n",
    "gdf.to_file(out_shp)\n",
    "\n",
    "# Or, as a single-layer GeoPackage:\n",
    "# gdf.to_file(out_gpkg, layer=\"cropland_mask\", driver=\"GPKG\")\n",
    "\n",
    "print(f\"Done. Wrote {len(gdf)} polygons to:\\n{out_shp}\")\n"
   ]
  }
 ],
 "metadata": {
  "kernelspec": {
   "display_name": "Python (base)",
   "language": "python",
   "name": "base"
  },
  "language_info": {
   "codemirror_mode": {
    "name": "ipython",
    "version": 3
   },
   "file_extension": ".py",
   "mimetype": "text/x-python",
   "name": "python",
   "nbconvert_exporter": "python",
   "pygments_lexer": "ipython3",
   "version": "3.12.3"
  }
 },
 "nbformat": 4,
 "nbformat_minor": 5
}
