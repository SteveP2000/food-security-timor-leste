{
 "cells": [
  {
   "cell_type": "code",
   "execution_count": 3,
   "id": "3856f809-eefe-4c55-9e1c-00325c8dc7a0",
   "metadata": {},
   "outputs": [
    {
     "name": "stderr",
     "output_type": "stream",
     "text": [
      "CropBox missing from /Page, defaulting to MediaBox\n",
      "CropBox missing from /Page, defaulting to MediaBox\n",
      "CropBox missing from /Page, defaulting to MediaBox\n",
      "CropBox missing from /Page, defaulting to MediaBox\n"
     ]
    },
    {
     "name": "stdout",
     "output_type": "stream",
     "text": [
      "✅ Done! Extracted 272 tables without altering headers.\n"
     ]
    }
   ],
   "source": [
    "import pdfplumber\n",
    "import pandas as pd\n",
    "import os\n",
    "\n",
    "# Define paths\n",
    "pdf_path = r\"I:\\My Drive\\Lancaster Masters\\LEC.505b Dissertation\\data\\1_Original_Data\\119_fao_agri_census\\TLS_REP_ENG_2019_01.pdf\"\n",
    "output_folder = r\"I:\\My Drive\\Lancaster Masters\\LEC.505b Dissertation\\data\\1_Original_Data\\119_fao_agri_census\"\n",
    "\n",
    "# Create output directory if missing\n",
    "os.makedirs(output_folder, exist_ok=True)\n",
    "\n",
    "# Start extraction\n",
    "with pdfplumber.open(pdf_path) as pdf:\n",
    "    table_counter = 1\n",
    "    for page_number, page in enumerate(pdf.pages, start=1):\n",
    "        tables = page.extract_tables()\n",
    "        for table in tables:\n",
    "            if table and len(table) > 1:\n",
    "                df = pd.DataFrame(table)\n",
    "\n",
    "                # Save entire table \"raw\" without adjusting headers\n",
    "                output_file = os.path.join(output_folder, f\"table_page{page_number}_table{table_counter}.csv\")\n",
    "                df.to_csv(output_file, index=False, header=False)  # No header shifting\n",
    "                table_counter += 1\n",
    "\n",
    "print(f\"✅ Done! Extracted {table_counter-1} tables without altering headers.\")\n"
   ]
  },
  {
   "cell_type": "code",
   "execution_count": 3,
   "id": "45f9ef92-4d97-4c60-8f03-f32024e5d76a",
   "metadata": {},
   "outputs": [
    {
     "name": "stderr",
     "output_type": "stream",
     "text": [
      "CropBox missing from /Page, defaulting to MediaBox\n",
      "CropBox missing from /Page, defaulting to MediaBox\n"
     ]
    },
    {
     "name": "stdout",
     "output_type": "stream",
     "text": [
      "✅ Saved I:\\My Drive\\Lancaster Masters\\LEC.505b Dissertation\\data\\1_Original_Data\\119_fao_agri_census\\combined\\Table_A1.xlsx\n",
      "✅ Saved I:\\My Drive\\Lancaster Masters\\LEC.505b Dissertation\\data\\1_Original_Data\\119_fao_agri_census\\combined\\Table_A2.xlsx\n",
      "✅ Saved I:\\My Drive\\Lancaster Masters\\LEC.505b Dissertation\\data\\1_Original_Data\\119_fao_agri_census\\combined\\Table_A3.xlsx\n",
      "✅ Saved I:\\My Drive\\Lancaster Masters\\LEC.505b Dissertation\\data\\1_Original_Data\\119_fao_agri_census\\combined\\Table_A4.xlsx\n",
      "✅ Saved I:\\My Drive\\Lancaster Masters\\LEC.505b Dissertation\\data\\1_Original_Data\\119_fao_agri_census\\combined\\Table_A5.xlsx\n",
      "✅ Saved I:\\My Drive\\Lancaster Masters\\LEC.505b Dissertation\\data\\1_Original_Data\\119_fao_agri_census\\combined\\Table_A6.xlsx\n",
      "✅ Saved I:\\My Drive\\Lancaster Masters\\LEC.505b Dissertation\\data\\1_Original_Data\\119_fao_agri_census\\combined\\Table_A7.xlsx\n",
      "✅ Saved I:\\My Drive\\Lancaster Masters\\LEC.505b Dissertation\\data\\1_Original_Data\\119_fao_agri_census\\combined\\Table_A8.xlsx\n",
      "✅ Saved I:\\My Drive\\Lancaster Masters\\LEC.505b Dissertation\\data\\1_Original_Data\\119_fao_agri_census\\combined\\Table_A9.xlsx\n",
      "✅ Saved I:\\My Drive\\Lancaster Masters\\LEC.505b Dissertation\\data\\1_Original_Data\\119_fao_agri_census\\combined\\Table_A10.xlsx\n",
      "✅ Saved I:\\My Drive\\Lancaster Masters\\LEC.505b Dissertation\\data\\1_Original_Data\\119_fao_agri_census\\combined\\Table_A11.xlsx\n",
      "✅ Saved I:\\My Drive\\Lancaster Masters\\LEC.505b Dissertation\\data\\1_Original_Data\\119_fao_agri_census\\combined\\Table_A12.xlsx\n",
      "✅ Saved I:\\My Drive\\Lancaster Masters\\LEC.505b Dissertation\\data\\1_Original_Data\\119_fao_agri_census\\combined\\Table_A13.xlsx\n",
      "✅ Saved I:\\My Drive\\Lancaster Masters\\LEC.505b Dissertation\\data\\1_Original_Data\\119_fao_agri_census\\combined\\Table_A14.xlsx\n",
      "✅ Saved I:\\My Drive\\Lancaster Masters\\LEC.505b Dissertation\\data\\1_Original_Data\\119_fao_agri_census\\combined\\Table_A15.xlsx\n",
      "✅ Saved I:\\My Drive\\Lancaster Masters\\LEC.505b Dissertation\\data\\1_Original_Data\\119_fao_agri_census\\combined\\Table_A16.xlsx\n",
      "✅ Saved I:\\My Drive\\Lancaster Masters\\LEC.505b Dissertation\\data\\1_Original_Data\\119_fao_agri_census\\combined\\Table_A17.xlsx\n",
      "✅ Saved I:\\My Drive\\Lancaster Masters\\LEC.505b Dissertation\\data\\1_Original_Data\\119_fao_agri_census\\combined\\Table_A17p.xlsx\n",
      "✅ Saved I:\\My Drive\\Lancaster Masters\\LEC.505b Dissertation\\data\\1_Original_Data\\119_fao_agri_census\\combined\\Table_A18.xlsx\n",
      "✅ Saved I:\\My Drive\\Lancaster Masters\\LEC.505b Dissertation\\data\\1_Original_Data\\119_fao_agri_census\\combined\\Table_A19.xlsx\n",
      "✅ Saved I:\\My Drive\\Lancaster Masters\\LEC.505b Dissertation\\data\\1_Original_Data\\119_fao_agri_census\\combined\\Table_A20.xlsx\n",
      "✅ Saved I:\\My Drive\\Lancaster Masters\\LEC.505b Dissertation\\data\\1_Original_Data\\119_fao_agri_census\\combined\\Table_A21.xlsx\n",
      "✅ Saved I:\\My Drive\\Lancaster Masters\\LEC.505b Dissertation\\data\\1_Original_Data\\119_fao_agri_census\\combined\\Table_A31.xlsx\n",
      "✅ Saved I:\\My Drive\\Lancaster Masters\\LEC.505b Dissertation\\data\\1_Original_Data\\119_fao_agri_census\\combined\\Table_A32.xlsx\n",
      "✅ Saved I:\\My Drive\\Lancaster Masters\\LEC.505b Dissertation\\data\\1_Original_Data\\119_fao_agri_census\\combined\\Table_A33.xlsx\n",
      "✅ Saved I:\\My Drive\\Lancaster Masters\\LEC.505b Dissertation\\data\\1_Original_Data\\119_fao_agri_census\\combined\\Table_A34.xlsx\n",
      "✅ Saved I:\\My Drive\\Lancaster Masters\\LEC.505b Dissertation\\data\\1_Original_Data\\119_fao_agri_census\\combined\\Table_A35.xlsx\n",
      "✅ Saved I:\\My Drive\\Lancaster Masters\\LEC.505b Dissertation\\data\\1_Original_Data\\119_fao_agri_census\\combined\\Table_A36.xlsx\n",
      "✅ Saved I:\\My Drive\\Lancaster Masters\\LEC.505b Dissertation\\data\\1_Original_Data\\119_fao_agri_census\\combined\\Table_A37.xlsx\n",
      "✅ Saved I:\\My Drive\\Lancaster Masters\\LEC.505b Dissertation\\data\\1_Original_Data\\119_fao_agri_census\\combined\\Table_A38.xlsx\n"
     ]
    },
    {
     "name": "stderr",
     "output_type": "stream",
     "text": [
      "CropBox missing from /Page, defaulting to MediaBox\n",
      "CropBox missing from /Page, defaulting to MediaBox\n"
     ]
    },
    {
     "name": "stdout",
     "output_type": "stream",
     "text": [
      "✅ Saved I:\\My Drive\\Lancaster Masters\\LEC.505b Dissertation\\data\\1_Original_Data\\119_fao_agri_census\\combined\\Table_A39.xlsx\n",
      "🎉 Done! All requested tables combined and saved.\n"
     ]
    }
   ],
   "source": [
    "import pdfplumber\n",
    "import pandas as pd\n",
    "import os\n",
    "from collections import defaultdict\n",
    "\n",
    "# File paths\n",
    "pdf_path = r\"I:\\My Drive\\Lancaster Masters\\LEC.505b Dissertation\\data\\1_Original_Data\\119_fao_agri_census\\TLS_REP_ENG_2019_01.pdf\"\n",
    "output_folder = r\"I:\\My Drive\\Lancaster Masters\\LEC.505b Dissertation\\data\\1_Original_Data\\119_fao_agri_census\\combined\"\n",
    "\n",
    "os.makedirs(output_folder, exist_ok=True)\n",
    "\n",
    "# Your list of (page number, table name)\n",
    "pages_by_table = [\n",
    "    (73, \"A1\"), (74, \"A1\"), (75, \"A1\"),\n",
    "    (76, \"A2\"), (77, \"A2\"), (78, \"A2\"),\n",
    "    (79, \"A3\"), (80, \"A3\"), (81, \"A3\"),\n",
    "    (82, \"A4\"), (83, \"A4\"), (84, \"A4\"),\n",
    "    (85, \"A5\"), (86, \"A5\"), (87, \"A5\"),\n",
    "    (94, \"A6\"), (95, \"A6\"), (96, \"A6\"),\n",
    "    (103, \"A7\"), (104, \"A7\"), (105, \"A7\"),\n",
    "    (112, \"A8\"), (113, \"A8\"), (114, \"A8\"),\n",
    "    (121, \"A9\"), (122, \"A9\"), (123, \"A9\"),\n",
    "    (130, \"A10\"), (131, \"A10\"), (132, \"A10\"),\n",
    "    (139, \"A11\"), (140, \"A11\"), (141, \"A11\"),\n",
    "    (142, \"A12\"), (143, \"A12\"), (144, \"A12\"),\n",
    "    (145, \"A13\"), (146, \"A13\"), (147, \"A13\"),\n",
    "    (148, \"A14\"), (149, \"A14\"), (150, \"A14\"), (151, \"A14\"),\n",
    "    (152, \"A15\"),\n",
    "    (153, \"A16\"), (154, \"A16\"), (155, \"A16\"),\n",
    "    (156, \"A17\"), (157, \"A17\"), (158, \"A17\"),\n",
    "    (159, \"A17p\"), (160, \"A17p\"), (161, \"A17p\"),\n",
    "    (162, \"A18\"), (163, \"A18\"), (164, \"A18\"),\n",
    "    (165, \"A19\"), (166, \"A19\"), (167, \"A19\"),\n",
    "    (168, \"A20\"), (169, \"A20\"), (170, \"A20\"),\n",
    "    (171, \"A21\"), (172, \"A21\"), (173, \"A21\"),\n",
    "    (205, \"A31\"), (206, \"A31\"),\n",
    "    (207, \"A32\"), (208, \"A32\"), (209, \"A32\"),\n",
    "    (210, \"A33\"), (211, \"A33\"), (212, \"A33\"),\n",
    "    (213, \"A34\"), (214, \"A34\"), (215, \"A34\"), (216, \"A34\"),\n",
    "    (227, \"A35\"), (228, \"A35\"), (229, \"A35\"), (230, \"A35\"),\n",
    "    (239, \"A36\"), (240, \"A36\"), (241, \"A36\"), (242, \"A36\"),\n",
    "    (251, \"A37\"), (252, \"A37\"), (253, \"A37\"), (254, \"A37\"),\n",
    "    (263, \"A38\"), (264, \"A38\"), (265, \"A38\"), (266, \"A38\"),\n",
    "    (275, \"A39\"), (276, \"A39\"), (277, \"A39\"), (278, \"A39\"),\n",
    "]\n",
    "\n",
    "# Group by table\n",
    "tables_dict = defaultdict(list)\n",
    "for page_num, table_id in pages_by_table:\n",
    "    tables_dict[table_id].append(page_num)\n",
    "\n",
    "# Process and export\n",
    "with pdfplumber.open(pdf_path) as pdf:\n",
    "    for table_id, page_list in tables_dict.items():\n",
    "        combined_df = pd.DataFrame()\n",
    "        for page_num in page_list:\n",
    "            try:\n",
    "                page = pdf.pages[page_num - 1]\n",
    "                tables = page.extract_tables()\n",
    "                for table in tables:\n",
    "                    if table and len(table) > 1:\n",
    "                        df = pd.DataFrame(table)\n",
    "                        df.dropna(how='all', inplace=True)\n",
    "                        df.reset_index(drop=True, inplace=True)\n",
    "                        combined_df = pd.concat([combined_df, df], ignore_index=True)\n",
    "            except Exception as e:\n",
    "                print(f\"⚠️ Error processing page {page_num}: {e}\")\n",
    "        \n",
    "        if not combined_df.empty:\n",
    "            output_path = os.path.join(output_folder, f\"Table_{table_id}.xlsx\")\n",
    "            combined_df.to_excel(output_path, index=False, header=False)\n",
    "            print(f\"✅ Saved {output_path}\")\n",
    "\n",
    "print(\"🎉 Done! All requested tables combined and saved.\")\n"
   ]
  }
 ],
 "metadata": {
  "kernelspec": {
   "display_name": "Python 3 (ipykernel)",
   "language": "python",
   "name": "python3"
  },
  "language_info": {
   "codemirror_mode": {
    "name": "ipython",
    "version": 3
   },
   "file_extension": ".py",
   "mimetype": "text/x-python",
   "name": "python",
   "nbconvert_exporter": "python",
   "pygments_lexer": "ipython3",
   "version": "3.12.3"
  }
 },
 "nbformat": 4,
 "nbformat_minor": 5
}
