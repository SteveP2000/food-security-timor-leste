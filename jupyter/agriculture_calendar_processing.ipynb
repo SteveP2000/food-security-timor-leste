{
 "cells": [
  {
   "cell_type": "code",
   "execution_count": null,
   "id": "45d909da-45c5-45e9-b34a-a770664e1208",
   "metadata": {},
   "outputs": [],
   "source": [
    "# Cell 1: Imports\n",
    "import pandas as pd\n",
    "\n",
    "# Cell 2: Load Excel calendar\n",
    "xlsx_path = r'C:\\temp\\timor_leste\\aileu_crop_calendar.xlsx'\n",
    "df = pd.read_excel(xlsx_path)\n",
    "\n",
    "# Cell 3: Identify month columns\n",
    "months = [\n",
    "    'January','February','March','April','May','June',\n",
    "    'July','August','September','October','November','December'\n",
    "]\n",
    "# Find which columns in df match our month list (case-insensitive)\n",
    "month_cols = [col for col in df.columns if col.strip().capitalize() in months]\n",
    "\n",
    "# Cell 4: Specify the ID & crop columns in your sheet\n",
    "id_cols = ['adm2_pcode', 'crop']\n",
    "\n",
    "# Cell 5: Melt to long format and drop blanks\n",
    "long = (\n",
    "    df\n",
    "    .melt(\n",
    "        id_vars=id_cols,\n",
    "        value_vars=month_cols,\n",
    "        var_name='month',\n",
    "        value_name='phase'\n",
    "    )\n",
    "    .dropna(subset=['phase'])\n",
    ")\n",
    "\n",
    "# Cell 6: Convert month names to numbers\n",
    "month_map = {m: i+1 for i, m in enumerate(months)}\n",
    "long['month_num'] = long['month'].str.strip().str.capitalize().map(month_map)\n",
    "\n",
    "# Cell 7: Aggregate to get start/end month per (polygon, crop, phase)\n",
    "ranges = (\n",
    "    long\n",
    "    .groupby(id_cols + ['phase'], as_index=False)\n",
    "    .agg(\n",
    "        start_month=('month_num', 'min'),\n",
    "        end_month=('month_num',   'max')\n",
    "    )\n",
    ")\n",
    "\n",
    "# Cell 8: Save to CSV\n",
    "out_csv = r'C:\\temp\\timor_leste\\updated_crop_calendar.csv'\n",
    "ranges.to_csv(out_csv, index=False)\n",
    "print(f'Written tidy calendar to: {out_csv}')\n",
    "\n",
    "# Cell 9: Preview\n",
    "ranges.head(10)\n"
   ]
  }
 ],
 "metadata": {
  "kernelspec": {
   "display_name": "Python (base)",
   "language": "python",
   "name": "base"
  },
  "language_info": {
   "codemirror_mode": {
    "name": "ipython",
    "version": 3
   },
   "file_extension": ".py",
   "mimetype": "text/x-python",
   "name": "python",
   "nbconvert_exporter": "python",
   "pygments_lexer": "ipython3",
   "version": "3.12.3"
  }
 },
 "nbformat": 4,
 "nbformat_minor": 5
}
