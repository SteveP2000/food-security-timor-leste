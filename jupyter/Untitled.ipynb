{
 "cells": [
  {
   "cell_type": "code",
   "execution_count": 3,
   "id": "3856f809-eefe-4c55-9e1c-00325c8dc7a0",
   "metadata": {},
   "outputs": [
    {
     "name": "stderr",
     "output_type": "stream",
     "text": [
      "CropBox missing from /Page, defaulting to MediaBox\n",
      "CropBox missing from /Page, defaulting to MediaBox\n",
      "CropBox missing from /Page, defaulting to MediaBox\n",
      "CropBox missing from /Page, defaulting to MediaBox\n"
     ]
    },
    {
     "name": "stdout",
     "output_type": "stream",
     "text": [
      "✅ Done! Extracted 272 tables without altering headers.\n"
     ]
    }
   ],
   "source": [
    "import pdfplumber\n",
    "import pandas as pd\n",
    "import os\n",
    "\n",
    "# Define paths\n",
    "pdf_path = r\"I:\\My Drive\\Lancaster Masters\\LEC.505b Dissertation\\data\\1_Original_Data\\119_fao_agri_census\\TLS_REP_ENG_2019_01.pdf\"\n",
    "output_folder = r\"I:\\My Drive\\Lancaster Masters\\LEC.505b Dissertation\\data\\1_Original_Data\\119_fao_agri_census\"\n",
    "\n",
    "# Create output directory if missing\n",
    "os.makedirs(output_folder, exist_ok=True)\n",
    "\n",
    "# Start extraction\n",
    "with pdfplumber.open(pdf_path) as pdf:\n",
    "    table_counter = 1\n",
    "    for page_number, page in enumerate(pdf.pages, start=1):\n",
    "        tables = page.extract_tables()\n",
    "        for table in tables:\n",
    "            if table and len(table) > 1:\n",
    "                df = pd.DataFrame(table)\n",
    "\n",
    "                # Save entire table \"raw\" without adjusting headers\n",
    "                output_file = os.path.join(output_folder, f\"table_page{page_number}_table{table_counter}.csv\")\n",
    "                df.to_csv(output_file, index=False, header=False)  # No header shifting\n",
    "                table_counter += 1\n",
    "\n",
    "print(f\"✅ Done! Extracted {table_counter-1} tables without altering headers.\")\n"
   ]
  }
 ],
 "metadata": {
  "kernelspec": {
   "display_name": "Python 3 (ipykernel)",
   "language": "python",
   "name": "python3"
  },
  "language_info": {
   "codemirror_mode": {
    "name": "ipython",
    "version": 3
   },
   "file_extension": ".py",
   "mimetype": "text/x-python",
   "name": "python",
   "nbconvert_exporter": "python",
   "pygments_lexer": "ipython3",
   "version": "3.12.3"
  }
 },
 "nbformat": 4,
 "nbformat_minor": 5
}
